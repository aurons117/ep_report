{
 "cells": [
  {
   "cell_type": "code",
   "execution_count": 1,
   "metadata": {},
   "outputs": [],
   "source": [
    "import pandas as pd\n",
    "import os\n",
    "import datetime"
   ]
  },
  {
   "cell_type": "code",
   "execution_count": 2,
   "metadata": {},
   "outputs": [
    {
     "name": "stdout",
     "output_type": "stream",
     "text": [
      "['FY19', 'FY20', 'FY21', 'FY22']\n"
     ]
    }
   ],
   "source": [
    "list_data_directories = os.listdir('../data_pmd')\n",
    "print(list_data_directories)"
   ]
  },
  {
   "cell_type": "markdown",
   "metadata": {},
   "source": [
    "## Prepare Data - FY20"
   ]
  },
  {
   "cell_type": "code",
   "execution_count": 3,
   "metadata": {},
   "outputs": [
    {
     "data": {
      "text/plain": [
       "(747042, 12)"
      ]
     },
     "execution_count": 3,
     "metadata": {},
     "output_type": "execute_result"
    }
   ],
   "source": [
    "columns_fy20 = ['Soff', 'Sold to Party', 'Period', 'Prctr', 'WBS Element', 'PCK /FGK', 'Matnr Sitm', 'FY', 'Total New Ord/GG1101', 'Revenue/GG1201', 'Sales Margin/GG1401', 'REV Qty']\n",
    "dtypes_fy20 = {'Soff': 'str', 'Sold to Party': 'str', 'Period': 'str', 'Prctr': 'str', 'WBS Element': 'str', 'PCK /FGK': 'str', 'Matnr Sitm': 'str', 'FY': 'str', 'Total New Ord/GG1101': 'float64', 'Revenue/GG1201': 'float64', 'Sales Margin/GG1401': 'float64', 'REV Qty': 'int64'}\n",
    "\n",
    "# Read data in directory FY20 and store it in a dataframe with pandas\n",
    "files = os.listdir('../data_pmd/FY20')\n",
    "df_list = []\n",
    "for file in files:\n",
    "    df = pd.read_csv(f'../data_pmd/FY20/{file}', usecols=columns_fy20, dtype=dtypes_fy20)\n",
    "    df_list.append(df)\n",
    "\n",
    "# Merge all dataframes into one dataframe for FY20\n",
    "df_fy20 = pd.concat(df_list)\n",
    "df_fy20.shape\n"
   ]
  },
  {
   "cell_type": "code",
   "execution_count": 4,
   "metadata": {},
   "outputs": [],
   "source": [
    "# Fill missing values with '(en blanco)'\n",
    "df_fy20[['Soff', 'Sold to Party', 'Period', 'Prctr', 'WBS Element', 'PCK /FGK', 'Matnr Sitm', 'FY']] = df_fy20[['Soff', 'Sold to Party', 'Period', 'Prctr', 'WBS Element', 'PCK /FGK', 'Matnr Sitm', 'FY']].fillna('(en blanco)')"
   ]
  },
  {
   "cell_type": "code",
   "execution_count": 5,
   "metadata": {},
   "outputs": [
    {
     "data": {
      "text/plain": [
       "(333075, 12)"
      ]
     },
     "execution_count": 5,
     "metadata": {},
     "output_type": "execute_result"
    }
   ],
   "source": [
    "# group by 'Soff', 'Sold to Party', 'Period', 'Prctr', 'WBS Element', 'PCK /FGK', 'Matnr Sitm' and 'FY' and aggregate sum of 'Total New Ord/GG1101', \n",
    "# 'Revenue/GG1201', 'Sales Margin/GG1401' and 'REV Qty'\n",
    "df_fy20_grouped = df_fy20.groupby(['Soff', 'Sold to Party', 'Period', 'Prctr', 'WBS Element', 'PCK /FGK', 'Matnr Sitm', 'FY'], as_index=False) \\\n",
    "    .agg({'Total New Ord/GG1101': 'sum', 'Revenue/GG1201': 'sum', 'Sales Margin/GG1401': 'sum', 'REV Qty': 'sum'})\n",
    "df_fy20_grouped.shape"
   ]
  },
  {
   "cell_type": "markdown",
   "metadata": {},
   "source": [
    "## Prepare Data - FY21"
   ]
  },
  {
   "cell_type": "code",
   "execution_count": 6,
   "metadata": {},
   "outputs": [
    {
     "data": {
      "text/plain": [
       "(699712, 14)"
      ]
     },
     "execution_count": 6,
     "metadata": {},
     "output_type": "execute_result"
    }
   ],
   "source": [
    "columns_fy21 = ['Soff', 'Sold to Party', 'Period', 'Prctr', 'WBS Element', 'PCK /FGK', 'Matnr Sitm', 'FY','Sdoc Nr', 'GBK/GCK', 'Total New Ord/GG1101', 'Revenue/GG1201', 'Sales Margin/GG1401', 'REV Qty']\n",
    "dtypes_fy21 = {'Soff': 'str', 'Sold to Party': 'str', 'Period': 'str', 'Prctr': 'str', 'WBS Element': 'str', 'PCK /FGK': 'str', 'Matnr Sitm': 'str', 'FY': 'str', 'Sdoc Nr': 'str', 'GBK/GCK': 'str', 'Total New Ord/GG1101': 'float64', 'Revenue/GG1201': 'float64', 'Sales Margin/GG1401': 'float64', 'REV Qty': 'int64'}\n",
    "\n",
    "# Read data in directory FY21 and store it in a dataframe with pandas\n",
    "files = os.listdir('../data_pmd/FY21')\n",
    "df_list = []\n",
    "for file in files:\n",
    "    df = pd.read_csv(f'../data_pmd/FY21/{file}', usecols=columns_fy21, dtype=dtypes_fy21)\n",
    "    df_list.append(df)\n",
    "\n",
    "# Merge all dataframes into one dataframe for FY21\n",
    "df_fy21 = pd.concat(df_list)\n",
    "df_fy21.shape"
   ]
  },
  {
   "cell_type": "markdown",
   "metadata": {},
   "source": [
    "Corregir error de SAP para documentos de venta en periodo 2"
   ]
  },
  {
   "cell_type": "code",
   "execution_count": 7,
   "metadata": {},
   "outputs": [],
   "source": [
    "# Read 'Sdoc Nr' from 'sales_documents_p1p3' document and convert in string de data\n",
    "df_sales_documents_p1p3 = pd.read_excel('../bases/sales_documents_p1p3.xlsx', usecols=['Sdoc Nr'], dtype={'Sdoc Nr': 'str'})"
   ]
  },
  {
   "cell_type": "code",
   "execution_count": 8,
   "metadata": {},
   "outputs": [
    {
     "data": {
      "text/plain": [
       "(699712, 14)"
      ]
     },
     "execution_count": 8,
     "metadata": {},
     "output_type": "execute_result"
    }
   ],
   "source": [
    "# Replace 'Prctr' in df_fy21 with value 'P10300200'. Where columns 'Period' = 'P02' and 'Sdoc Nr' in list_sdoc_nr\n",
    "df_fy21.loc[df_fy21['Sdoc Nr'].isin(df_sales_documents_p1p3['Sdoc Nr']) & (df_fy21['Period'] == 'P02'), 'Prctr'] = 'P10300200'\n",
    "df_fy21.shape"
   ]
  },
  {
   "cell_type": "code",
   "execution_count": 9,
   "metadata": {},
   "outputs": [],
   "source": [
    "# Add a column 'Tipo' with values 'Canales' to df_fy21 where column 'GBK/PCK' = R711 and R750\n",
    "df_fy21.loc[df_fy21['GBK/GCK'].isin(['R711', 'R750']), 'Tipo'] = 'Canales'\n"
   ]
  },
  {
   "cell_type": "code",
   "execution_count": 10,
   "metadata": {},
   "outputs": [],
   "source": [
    "# Fill empty values with '(en blanco)'\n",
    "df_fy21[['Soff', 'Sold to Party', 'Period', 'Prctr', 'WBS Element', 'PCK /FGK', 'Matnr Sitm', 'FY']] = df_fy21[['Soff', 'Sold to Party', 'Period', 'Prctr', 'WBS Element', 'PCK /FGK', 'Matnr Sitm', 'FY']].fillna('(en blanco)')"
   ]
  },
  {
   "cell_type": "code",
   "execution_count": 11,
   "metadata": {},
   "outputs": [
    {
     "data": {
      "text/plain": [
       "(320111, 13)"
      ]
     },
     "execution_count": 11,
     "metadata": {},
     "output_type": "execute_result"
    }
   ],
   "source": [
    "# group by 'Soff', 'Sold to Party', 'Period', 'Prctr', 'WBS Element', 'PCK /FGK', 'Matnr Sitm' and 'FY' and aggregate sum of 'Total New Ord/GG1101', \n",
    "# 'Revenue/GG1201', 'Sales Margin/GG1401' and 'REV Qty' and aggregate first value of 'Tipo'\n",
    "df_fy21_grouped = df_fy21.groupby(['Soff', 'Sold to Party', 'Period', 'Prctr', 'WBS Element', 'PCK /FGK', 'Matnr Sitm', 'FY'], as_index=False) \\\n",
    "    .agg({'Total New Ord/GG1101': 'sum', 'Revenue/GG1201': 'sum', 'Sales Margin/GG1401': 'sum', 'REV Qty': 'sum', 'Tipo': 'first'})\n",
    "df_fy21_grouped.shape"
   ]
  },
  {
   "cell_type": "markdown",
   "metadata": {},
   "source": [
    "Clasificar tipo: \"Canales\" y \"Proyectos\" de cada línea"
   ]
  },
  {
   "cell_type": "code",
   "execution_count": 12,
   "metadata": {},
   "outputs": [],
   "source": [
    "# Read data from 'sales_documents_p1p3' document\n",
    "df_pcks_p4 = pd.read_excel('../bases/pcks_p4.xlsx', usecols=['GBK/PCK'], dtype={'GBK/PCK': 'str'})"
   ]
  },
  {
   "cell_type": "code",
   "execution_count": 13,
   "metadata": {},
   "outputs": [],
   "source": [
    "# Replace values of 'Tipo' with 'Canales' in df_fy21_grouped where column 'PCK /FGK' in df_pcks_p4_list\n",
    "df_fy21_grouped.loc[df_fy21_grouped['PCK /FGK'].isin(df_pcks_p4['GBK/PCK']), 'Tipo'] = 'Canales'"
   ]
  },
  {
   "cell_type": "code",
   "execution_count": 14,
   "metadata": {},
   "outputs": [
    {
     "data": {
      "text/plain": [
       "(320111, 13)"
      ]
     },
     "execution_count": 14,
     "metadata": {},
     "output_type": "execute_result"
    }
   ],
   "source": [
    "# Replace values of 'Tipo' with 'Proyectos' in df_fy21_grouped where column 'Sold to Party' = '41003426'\n",
    "df_fy21_grouped.loc[df_fy21_grouped['Sold to Party'] == '41003426', 'Tipo'] = 'Proyectos'\n",
    "df_fy21_grouped.shape"
   ]
  },
  {
   "cell_type": "markdown",
   "metadata": {},
   "source": [
    "## Prepare Data - FY22"
   ]
  },
  {
   "cell_type": "code",
   "execution_count": 15,
   "metadata": {},
   "outputs": [
    {
     "data": {
      "text/plain": [
       "(351505, 12)"
      ]
     },
     "execution_count": 15,
     "metadata": {},
     "output_type": "execute_result"
    }
   ],
   "source": [
    "columns_fy22 = ['GBK/GCK', 'Period', 'Soff', 'Sold to Party', 'Prctr', 'WBS Element', 'PCK /FGK', 'Matnr Sitm','Total New Ord/GG1101', 'Revenue/GG1201', 'Sales Margin/GG1401', 'REV Qty']\n",
    "dtypes_fy22 = {'GBK/GCK': 'str', 'Period': 'str', 'Soff': 'str', 'Sold to Party': 'str', 'Prctr': 'str', 'WBS Element': 'str', 'PCK /FGK': 'str', 'Matnr Sitm': 'str', 'Total New Ord/GG1101': 'float64', 'Revenue/GG1201': 'float64', 'Sales Margin/GG1401': 'float64', 'REV Qty': 'float64'}\n",
    "\n",
    "# Read data in directory FY21 and store it in a dataframe with pandas\n",
    "files = os.listdir('../data_pmd/FY22')\n",
    "df_list = []\n",
    "for file in files:\n",
    "    df = pd.read_csv(f'../data_pmd/FY22/{file}', usecols=columns_fy22, dtype=dtypes_fy22)\n",
    "    df_list.append(df)\n",
    "\n",
    "# Merge all dataframes into one dataframe for FY21\n",
    "df_fy22 = pd.concat(df_list)\n",
    "df_fy22.shape"
   ]
  },
  {
   "cell_type": "code",
   "execution_count": 16,
   "metadata": {},
   "outputs": [
    {
     "data": {
      "text/plain": [
       "(351505, 14)"
      ]
     },
     "execution_count": 16,
     "metadata": {},
     "output_type": "execute_result"
    }
   ],
   "source": [
    "# Add a column 'Tipo' with values 'Canales' to df_fy22 where column 'GBK/PCK' = R711 and R750\n",
    "df_fy22.loc[df_fy22['GBK/GCK'].isin(['R711', 'R750']), 'Tipo'] = 'Canales'\n",
    "df_fy22['FY'] = 'FY22'\n",
    "df_fy22.shape"
   ]
  },
  {
   "cell_type": "code",
   "execution_count": 17,
   "metadata": {},
   "outputs": [],
   "source": [
    "# Replace first character of 'Period' column values with 'P'\n",
    "df_fy22['Period'] = df_fy22['Period'].str.replace('0', 'P', 1)"
   ]
  },
  {
   "cell_type": "markdown",
   "metadata": {},
   "source": [
    "Preparar data, llenando celdas vacías para poder realizar la agrupación y agregación"
   ]
  },
  {
   "cell_type": "code",
   "execution_count": 18,
   "metadata": {},
   "outputs": [],
   "source": [
    "# Fill empty values with '(en blanco)'\n",
    "df_fy22[['Soff', 'Sold to Party', 'Period', 'Prctr', 'WBS Element', 'PCK /FGK', 'Matnr Sitm', 'FY']] = df_fy22[['Soff', 'Sold to Party', 'Period', 'Prctr', 'WBS Element', 'PCK /FGK', 'Matnr Sitm', 'FY']].fillna('(en blanco)')"
   ]
  },
  {
   "cell_type": "code",
   "execution_count": 19,
   "metadata": {},
   "outputs": [
    {
     "data": {
      "text/plain": [
       "(156072, 13)"
      ]
     },
     "execution_count": 19,
     "metadata": {},
     "output_type": "execute_result"
    }
   ],
   "source": [
    "df_fy22_grouped = df_fy22.groupby(['Soff', 'Sold to Party', 'Period', 'Prctr', 'WBS Element', 'PCK /FGK', 'Matnr Sitm', 'FY'], as_index=False) \\\n",
    "    .agg({'Total New Ord/GG1101': 'sum', 'Revenue/GG1201': 'sum', 'Sales Margin/GG1401': 'sum', 'REV Qty': 'sum', 'Tipo': 'first'})\n",
    "df_fy22_grouped.shape"
   ]
  },
  {
   "cell_type": "markdown",
   "metadata": {},
   "source": [
    "Clasificar Tipo de cada documento de venta"
   ]
  },
  {
   "cell_type": "code",
   "execution_count": 20,
   "metadata": {},
   "outputs": [],
   "source": [
    "# Replace values of 'Tipo' with 'Canales' in df_fy22_grouped where column 'PCK /FGK' in df_pcks_p4_list\n",
    "df_fy22_grouped.loc[df_fy22_grouped['PCK /FGK'].isin(df_pcks_p4['GBK/PCK']), 'Tipo'] = 'Canales'"
   ]
  },
  {
   "cell_type": "code",
   "execution_count": 21,
   "metadata": {},
   "outputs": [
    {
     "data": {
      "text/plain": [
       "(156072, 13)"
      ]
     },
     "execution_count": 21,
     "metadata": {},
     "output_type": "execute_result"
    }
   ],
   "source": [
    "# Replace values of 'Tipo' with 'SIGRAMA' in df_fy22_grouped where column 'Sold to Party' = '40004739'\n",
    "df_fy22_grouped.loc[df_fy22_grouped['Sold to Party'] == '40004739', 'Tipo'] = 'SIGRAMA'\n",
    "df_fy22_grouped.loc[df_fy22_grouped['Sold to Party'] == '41003426', 'Tipo'] = 'AMESA'\n",
    "df_fy22_grouped.loc[df_fy22_grouped['Soff'].isin(['0', 'M001']), 'Tipo'] = 'ICB/IDB'\n",
    "df_fy22_grouped.loc[df_fy22_grouped['WBS Element'] != '0', 'Tipo'] = 'Proyectos'\n",
    "df_fy22_grouped.shape"
   ]
  },
  {
   "cell_type": "markdown",
   "metadata": {},
   "source": [
    "## Join data from bases and Data\n",
    "\n",
    "Se concatena la data de todos los FY en uno solo"
   ]
  },
  {
   "cell_type": "code",
   "execution_count": 22,
   "metadata": {},
   "outputs": [
    {
     "data": {
      "text/plain": [
       "(809258, 13)"
      ]
     },
     "execution_count": 22,
     "metadata": {},
     "output_type": "execute_result"
    }
   ],
   "source": [
    "# Concatenate df_fy20_grouped, df_fy21_grouped and df_fy22_grouped\n",
    "df_all = pd.concat([df_fy20_grouped, df_fy21_grouped, df_fy22_grouped])\n",
    "df_all.shape"
   ]
  },
  {
   "cell_type": "markdown",
   "metadata": {},
   "source": [
    "Read data from bases and prepare it"
   ]
  },
  {
   "cell_type": "code",
   "execution_count": 23,
   "metadata": {},
   "outputs": [],
   "source": [
    "# Read data from 'bases.xlsx' document\n",
    "businessUnits = pd.read_excel('../bases/bases.xlsx', sheet_name='business_unit', usecols=['profitCenter', 'businessUnit'], dtype={'profitCenter': 'str', 'businessUnit': 'str'})\n",
    "clients = pd.read_excel('../bases/bases.xlsx', sheet_name='cliente', usecols=['noCliente', 'grupo'], dtype={'noCliente': 'str', 'grupo': 'str'})\n",
    "region = pd.read_excel('../bases/bases.xlsx', sheet_name='region', usecols=['clave', 'region', 'estado', 'Latitud', 'Longitud'], dtype={'clave': 'str', 'region': 'str', 'estado': 'str', 'Latitud': 'float64', 'Longitud': 'float64'})\n",
    "products = pd.read_excel('../bases/bases.xlsx', sheet_name='product', usecols=['pck', 'ingeniero', 'familia', 'clasificacion', 'vsp plan', 'ebit plan'], dtype={'pck': 'str', 'ingeniero': 'str', 'familia': 'str', 'clasificacion': 'str', 'vsp plan': 'float64', 'ebit plan': 'float64'})\n",
    "quarter = pd.read_excel('../bases/bases.xlsx', sheet_name='quarter', usecols=['period', 'quarter'], dtype={'period': 'str', 'quarter': 'str'})\n"
   ]
  },
  {
   "cell_type": "code",
   "execution_count": 24,
   "metadata": {},
   "outputs": [],
   "source": [
    "# Remove duplicates from clients dataframe considering 'noCliente' column\n",
    "clients = clients.drop_duplicates(subset='noCliente', keep='first')"
   ]
  },
  {
   "cell_type": "markdown",
   "metadata": {},
   "source": [
    "Merge bases and Data"
   ]
  },
  {
   "cell_type": "code",
   "execution_count": 25,
   "metadata": {},
   "outputs": [
    {
     "data": {
      "text/plain": [
       "Index(['Sold to Party', 'Period', 'WBS Element', 'PCK', 'Matnr Sitm', 'FY',\n",
       "       'Total New Ord', 'Revenue', 'Sales Margin', 'REV Qty', 'Tipo',\n",
       "       'businessUnit', 'grupo', 'region', 'estado', 'Latitud', 'Longitud',\n",
       "       'ingeniero', 'familia', 'clasificacion', 'vsp plan', 'ebit plan',\n",
       "       'quarter'],\n",
       "      dtype='object')"
      ]
     },
     "execution_count": 25,
     "metadata": {},
     "output_type": "execute_result"
    }
   ],
   "source": [
    "# Merge df_all with businessUnits, clients, region, products and quarter\n",
    "df_all_merged = df_all.merge(businessUnits, how='left', left_on='Prctr', right_on='profitCenter').drop(['profitCenter', 'Prctr'], axis=1)\n",
    "df_all_merged = df_all_merged.merge(clients, how='left', left_on='Sold to Party', right_on='noCliente').drop(['noCliente'], axis=1)\n",
    "df_all_merged = df_all_merged.merge(region, how='left', left_on='Soff', right_on='clave').drop(['clave', 'Soff'], axis=1)\n",
    "df_all_merged = df_all_merged.merge(products, how='left', left_on='PCK /FGK', right_on='pck').drop('pck', axis=1)\n",
    "df_all_merged = df_all_merged.merge(quarter, how='left', left_on='Period', right_on='period').drop('period', axis=1)\n",
    "\n",
    "# Rename columns of df_all_merged, 'Total New Ord/GG1101' to 'Total New Ord', 'Revenue/GG1201' to 'Revenue', 'Sales Margin/GG1401' to 'Sales Margin' and 'PCK /FGK' to 'PCK'\n",
    "df_all_merged = df_all_merged.rename(columns={'Total New Ord/GG1101': 'Total New Ord', 'Revenue/GG1201': 'Revenue', 'Sales Margin/GG1401': 'Sales Margin', 'PCK /FGK': 'PCK'})\n",
    "df_all_merged.columns"
   ]
  },
  {
   "cell_type": "markdown",
   "metadata": {},
   "source": [
    "## Forecast Creation\n",
    "FY 22 - Preparar información general para poder juntarla con el forecast de este año"
   ]
  },
  {
   "cell_type": "code",
   "execution_count": 26,
   "metadata": {},
   "outputs": [],
   "source": [
    "# Create a df for forecast data of FY22 and \n",
    "df_fy22_forecast = df_all_merged.loc[(df_all_merged['FY'] == 'FY22') & (df_all_merged['Tipo'] == 'Canales')]\n",
    "\n",
    "# Fill empty values with '(en blanco)' in df_fy22_forecast columns 'Period', 'FY', 'businessUnit', 'grupo', 'region', 'estado'\n",
    "df_fy22_forecast.loc[df_fy22_forecast['Period'].isna() ,'Period'] = '(en blanco)'\n",
    "df_fy22_forecast.loc[df_fy22_forecast['FY'].isna() ,'FY'] = '(en blanco)'\n",
    "df_fy22_forecast.loc[df_fy22_forecast['businessUnit'].isna() ,'businessUnit'] = '(en blanco)'\n",
    "df_fy22_forecast.loc[df_fy22_forecast['grupo'].isna() ,'grupo'] = '(en blanco)'\n",
    "df_fy22_forecast.loc[df_fy22_forecast['region'].isna() ,'region'] = '(en blanco)'"
   ]
  },
  {
   "cell_type": "code",
   "execution_count": 27,
   "metadata": {},
   "outputs": [
    {
     "data": {
      "text/plain": [
       "(2405, 11)"
      ]
     },
     "execution_count": 27,
     "metadata": {},
     "output_type": "execute_result"
    }
   ],
   "source": [
    "# Group information of df_fy22_forecast by 'Period', 'FY', 'businessUnit', 'grupo' and 'region'\n",
    "df_fy22_forecast_grouped = df_fy22_forecast.groupby(['Period', 'FY', 'businessUnit', 'grupo', 'region'], as_index=False) \\\n",
    "    .agg({'Total New Ord': 'sum', 'Revenue': 'sum', 'Latitud': 'first', 'Longitud': 'first', 'Sold to Party': 'first', 'quarter': 'first'})\n",
    "df_fy22_forecast_grouped.shape"
   ]
  },
  {
   "cell_type": "code",
   "execution_count": 28,
   "metadata": {},
   "outputs": [
    {
     "data": {
      "text/plain": [
       "(2448, 6)"
      ]
     },
     "execution_count": 28,
     "metadata": {},
     "output_type": "execute_result"
    }
   ],
   "source": [
    "# Read data from 'bases.xlsx' document, sheet 'forecast_oficinas'\n",
    "oficinas_columns = ['grupo', 'region', 'businessUnit', 'estado', 'P01', 'P02', 'P03', 'P04', 'P05', 'P06', 'P07', 'P08', 'P09', 'P10', 'P11', 'P12']\n",
    "oficinas_types = {'grupo': 'str', 'region': 'str', 'businessUnit': 'str', 'estado': 'str', 'P01': 'float64', 'P02': 'float64', 'P03': 'float64', 'P04': 'float64', 'P05': 'float64', 'P06': 'float64', 'P07': 'float64', 'P08': 'float64', 'P09': 'float64', 'P10': 'float64', 'P11': 'float64', 'P12': 'float64'}\n",
    "df_oficinas = pd.read_excel('../bases/bases.xlsx', sheet_name='forecast_oficinas', usecols=oficinas_columns, dtype=oficinas_types)\n",
    "\n",
    "# Unpivot df_oficinas\n",
    "df_oficinas = df_oficinas.melt(id_vars=['grupo', 'region', 'businessUnit', 'estado'], var_name='Period', value_name='Forecast')\n",
    "df_oficinas.shape"
   ]
  },
  {
   "cell_type": "code",
   "execution_count": 29,
   "metadata": {},
   "outputs": [
    {
     "data": {
      "text/plain": [
       "(3637, 13)"
      ]
     },
     "execution_count": 29,
     "metadata": {},
     "output_type": "execute_result"
    }
   ],
   "source": [
    "# Join df_fy22_forecast_grouped and df_oficinas_unpivoted using join method\n",
    "df_fy22_forecast_data = df_fy22_forecast_grouped.join(df_oficinas.set_index(['grupo', 'region', 'businessUnit', 'Period']), on=['grupo', 'region', 'businessUnit', 'Period'], how='outer')\n",
    "df_fy22_forecast_data['FY'] = 'FY22'\n",
    "df_fy22_forecast_data.shape"
   ]
  },
  {
   "cell_type": "markdown",
   "metadata": {},
   "source": [
    "FY21 - Preparar data con el mismo procedimiento. (FY21 sí tiene split de información en estados, así que debe incluirse)"
   ]
  },
  {
   "cell_type": "code",
   "execution_count": 30,
   "metadata": {},
   "outputs": [
    {
     "data": {
      "text/plain": [
       "(317590, 23)"
      ]
     },
     "execution_count": 30,
     "metadata": {},
     "output_type": "execute_result"
    }
   ],
   "source": [
    "# Create a df for forecast data of FY21 and \n",
    "df_fy21_forecast = df_all_merged.loc[(df_all_merged['FY'] == 'FY21') & (df_all_merged['Tipo'] == 'Canales')]\n",
    "\n",
    "# Fill empty values with '(en blanco)' in df_fy21_forecast columns 'Period', 'FY', 'businessUnit', 'grupo', 'region', 'estado'\n",
    "df_fy21_forecast.loc[df_fy21_forecast['Period'].isna() ,'Period'] = '(en blanco)'\n",
    "df_fy21_forecast.loc[df_fy21_forecast['FY'].isna() ,'FY'] = '(en blanco)'\n",
    "df_fy21_forecast.loc[df_fy21_forecast['businessUnit'].isna() ,'businessUnit'] = '(en blanco)'\n",
    "df_fy21_forecast.loc[df_fy21_forecast['grupo'].isna() ,'grupo'] = '(en blanco)'\n",
    "df_fy21_forecast.loc[df_fy21_forecast['region'].isna() ,'region'] = '(en blanco)'\n",
    "df_fy21_forecast.loc[df_fy21_forecast['estado'].isna() ,'estado'] = '(en blanco)'\n",
    "\n",
    "# df_fy21_forecast[['Period', 'FY', 'businessUnit', 'grupo', 'region', 'estado']] = df_fy21_forecast[['Period', 'FY', 'businessUnit', 'grupo', 'region', 'estado']].fillna('(en blanco)')\n",
    "\n",
    "df_fy21_forecast.shape"
   ]
  },
  {
   "cell_type": "code",
   "execution_count": 31,
   "metadata": {},
   "outputs": [
    {
     "data": {
      "text/plain": [
       "(5042, 12)"
      ]
     },
     "execution_count": 31,
     "metadata": {},
     "output_type": "execute_result"
    }
   ],
   "source": [
    "# Group information of df_fy21_forecast by 'Period', 'FY', 'businessUnit', 'grupo' and 'region'\n",
    "df_fy21_forecast_grouped = df_fy21_forecast.groupby(['Period', 'FY', 'businessUnit', 'grupo', 'region', 'estado'], as_index=False) \\\n",
    "    .agg({'Total New Ord': 'sum', 'Revenue': 'sum', 'Latitud': 'first', 'Longitud': 'first', 'Sold to Party': 'first', 'quarter': 'first'})\n",
    "df_fy21_forecast_grouped.shape"
   ]
  },
  {
   "cell_type": "code",
   "execution_count": 32,
   "metadata": {},
   "outputs": [
    {
     "data": {
      "text/plain": [
       "(44820, 6)"
      ]
     },
     "execution_count": 32,
     "metadata": {},
     "output_type": "execute_result"
    }
   ],
   "source": [
    "# Read data from 'bases.xlsx' document, sheet 'forecast_fy21'\n",
    "oficinas_columns = ['grupo', 'region', 'businessUnit', 'estado', 'P01', 'P02', 'P03', 'P04', 'P05', 'P06', 'P07', 'P08', 'P09', 'P10', 'P11', 'P12']\n",
    "oficinas_types = {'grupo': 'str', 'region': 'str', 'businessUnit': 'str', 'estado': 'str', 'P01': 'float64', 'P02': 'float64', 'P03': 'float64', 'P04': 'float64', 'P05': 'float64', 'P06': 'float64', 'P07': 'float64', 'P08': 'float64', 'P09': 'float64', 'P10': 'float64', 'P11': 'float64', 'P12': 'float64'}\n",
    "df_oficinas = pd.read_excel('../bases/bases.xlsx', sheet_name='forecast_fy21', usecols=oficinas_columns, dtype=oficinas_types)\n",
    "\n",
    "# Unpivot df_oficinas\n",
    "df_oficinas = df_oficinas.melt(id_vars=['grupo', 'region', 'businessUnit', 'estado'], var_name='Period', value_name='Forecast')\n",
    "df_oficinas.shape"
   ]
  },
  {
   "cell_type": "code",
   "execution_count": 33,
   "metadata": {},
   "outputs": [
    {
     "data": {
      "text/plain": [
       "(46980, 13)"
      ]
     },
     "execution_count": 33,
     "metadata": {},
     "output_type": "execute_result"
    }
   ],
   "source": [
    "# Join df_fy21_forecast_grouped and df_oficinas using join method\n",
    "df_fy21_forecast_data = df_fy21_forecast_grouped.join(df_oficinas.set_index(['grupo', 'region', 'businessUnit', 'Period', 'estado']), on=['grupo', 'region', 'businessUnit', 'Period', 'estado'], how='outer')\n",
    "df_fy21_forecast_data['FY'] = 'FY21'\n",
    "df_fy21_forecast_data.shape"
   ]
  },
  {
   "cell_type": "markdown",
   "metadata": {},
   "source": [
    "## Concatenate data of Fy21 and FY22"
   ]
  },
  {
   "cell_type": "code",
   "execution_count": 34,
   "metadata": {},
   "outputs": [
    {
     "data": {
      "text/plain": [
       "(50617, 13)"
      ]
     },
     "execution_count": 34,
     "metadata": {},
     "output_type": "execute_result"
    }
   ],
   "source": [
    "# concat df_fy22_forecast_data and df_fy21_forecast_data\n",
    "df_forecast_data = pd.concat([df_fy22_forecast_data, df_fy21_forecast_data])\n",
    "df_forecast_data.shape"
   ]
  },
  {
   "cell_type": "code",
   "execution_count": 35,
   "metadata": {},
   "outputs": [
    {
     "data": {
      "text/plain": [
       "(552, 6)"
      ]
     },
     "execution_count": 35,
     "metadata": {},
     "output_type": "execute_result"
    }
   ],
   "source": [
    "# Read data from \"categoria_descuento\" sheet of \"bases.xlsx\" document\n",
    "categoria_descuento_columns = ['FY', 'grupo', 'businessUnit', 'tipo_cliente', 'descuento_cliente', 'beneficio']\n",
    "categoria_descuento_types = {'FY': 'str', 'grupo': 'str', 'businessUnit': 'str', 'tipo_cliente': 'str', 'descuento_cliente': 'float64', 'beneficio': 'float64'}\n",
    "df_categoria_descuento = pd.read_excel('../bases/bases.xlsx', sheet_name='categoria_descuento', usecols=categoria_descuento_columns, dtype=categoria_descuento_types)\n",
    "\n",
    "df_categoria_descuento.shape\n"
   ]
  },
  {
   "cell_type": "code",
   "execution_count": 36,
   "metadata": {},
   "outputs": [
    {
     "data": {
      "text/plain": [
       "(50617, 16)"
      ]
     },
     "execution_count": 36,
     "metadata": {},
     "output_type": "execute_result"
    }
   ],
   "source": [
    "# join df_forecast_data and df_categoria_descuento using merge method\n",
    "df_forecast_categorias_data = df_forecast_data.merge(df_categoria_descuento, on=['FY', 'grupo', 'businessUnit'], how='left')\n",
    "\n",
    "# Rename columns of df_forecast_categorias_data\n",
    "forecast_column_names = ['Periodo', 'FY', 'BU', 'GRUPO', 'Región', 'Total New Ord', 'Revenue', 'Latitud', 'Longitud', 'Sold to Party', 'quarter', 'estado', 'Forecast', 'tipo_cliente', 'descuento_cliente', 'Beneficio']\n",
    "df_forecast_categorias_data.columns = forecast_column_names\n",
    "df_forecast_categorias_data.shape"
   ]
  },
  {
   "cell_type": "code",
   "execution_count": 37,
   "metadata": {},
   "outputs": [],
   "source": [
    "# export to csv 'df_forecast_categorias_data.csv' format utf-8\n",
    "df_forecast_categorias_data.to_csv('../out/forecast_data2.csv', index=False, encoding='utf-8')"
   ]
  },
  {
   "cell_type": "markdown",
   "metadata": {},
   "source": [
    "# Marketing points"
   ]
  },
  {
   "cell_type": "code",
   "execution_count": 38,
   "metadata": {},
   "outputs": [],
   "source": [
    "# Fill empty values with '(en blanco)' in df_forecast_categorias_data columns 'quarter', 'GRUPO', 'BU', 'FY'\n",
    "df_forecast_categorias_data.loc[df_forecast_categorias_data['quarter'].isna() ,'quarter'] = '(en blanco)'\n",
    "df_forecast_categorias_data.loc[df_forecast_categorias_data['GRUPO'].isna() ,'GRUPO'] = '(en blanco)'\n",
    "df_forecast_categorias_data.loc[df_forecast_categorias_data['BU'].isna() ,'BU'] = '(en blanco)'\n",
    "df_forecast_categorias_data.loc[df_forecast_categorias_data['FY'].isna() ,'FY'] = '(en blanco)'"
   ]
  },
  {
   "cell_type": "code",
   "execution_count": 39,
   "metadata": {},
   "outputs": [
    {
     "data": {
      "text/plain": [
       "(1359, 8)"
      ]
     },
     "execution_count": 39,
     "metadata": {},
     "output_type": "execute_result"
    }
   ],
   "source": [
    "# Group by 'quarter', 'grupo' and 'BU'\n",
    "df_forecast_categorias_data_grouped = df_forecast_categorias_data.groupby(['quarter', 'GRUPO', 'BU', 'FY'], as_index=False) \\\n",
    "    .agg({'Total New Ord': 'sum', 'Forecast': 'sum', 'tipo_cliente': 'first',  'Beneficio': 'first'})\n",
    "\n",
    "# filter df_forecast_categorias_data_grouped by 'forecast' = 0\n",
    "df_forecast_categorias_data_grouped = df_forecast_categorias_data_grouped[df_forecast_categorias_data_grouped['Forecast'] != 0]\n",
    "df_forecast_categorias_data_grouped.shape"
   ]
  },
  {
   "cell_type": "code",
   "execution_count": 40,
   "metadata": {},
   "outputs": [],
   "source": [
    "# New column 'creditos' = 'Total New Ord' * 'beneficio' filtering where 'Total New Ord' > (forecast / 2)\n",
    "validation_NO_fC = df_forecast_categorias_data_grouped['Total New Ord'] >= (df_forecast_categorias_data_grouped['Forecast'] / 2)\n",
    "df_forecast_categorias_data_grouped['creditos'] = df_forecast_categorias_data_grouped[validation_NO_fC]['Total New Ord'] * df_forecast_categorias_data_grouped[validation_NO_fC]['Beneficio']\n"
   ]
  },
  {
   "cell_type": "markdown",
   "metadata": {},
   "source": [
    "Date validation"
   ]
  },
  {
   "cell_type": "code",
   "execution_count": 41,
   "metadata": {},
   "outputs": [],
   "source": [
    "month_quarter = {1: 'Q2', 2: 'Q2', 3: 'Q2', 4: 'Q3', 5: 'Q3', 6: 'Q3', 7: 'Q4', 8: 'Q4', 9: 'Q4', 10: 'Q1', 11: 'Q1', 12: 'Q1'}\n",
    "quarters = ['Q1', 'Q2', 'Q3', 'Q4']\n",
    "\n",
    "# get today's month\n",
    "today = datetime.date.today()\n",
    "month = today.month"
   ]
  },
  {
   "cell_type": "code",
   "execution_count": 42,
   "metadata": {},
   "outputs": [
    {
     "data": {
      "text/plain": [
       "['Q1', 'Q2']"
      ]
     },
     "execution_count": 42,
     "metadata": {},
     "output_type": "execute_result"
    }
   ],
   "source": [
    "# find previous quarters of today's month\n",
    "validation_quarter = []\n",
    "for quarter in quarters:\n",
    "    if month_quarter[month] != quarter:\n",
    "        validation_quarter.append(quarter)\n",
    "    else:\n",
    "        break\n",
    "# if quarter is Q4, then add Q4 to validation_quarter\n",
    "if month_quarter[month] == 'Q4':\n",
    "    validation_quarter.append('Q4')\n",
    "\n",
    "validation_quarter\n"
   ]
  },
  {
   "cell_type": "code",
   "execution_count": 43,
   "metadata": {},
   "outputs": [],
   "source": [
    "# Set 'creditos' = 0 for all quarters except 'validation_quarter'\n",
    "df_forecast_categorias_data_grouped.loc[-df_forecast_categorias_data_grouped['quarter'].isin(validation_quarter), 'creditos'] = 0"
   ]
  },
  {
   "cell_type": "code",
   "execution_count": 44,
   "metadata": {},
   "outputs": [],
   "source": [
    "df_forecast_categorias_data_grouped.to_csv('../out/testing.csv', index=False, encoding='utf-8')"
   ]
  },
  {
   "cell_type": "code",
   "execution_count": null,
   "metadata": {},
   "outputs": [],
   "source": []
  },
  {
   "cell_type": "code",
   "execution_count": null,
   "metadata": {},
   "outputs": [],
   "source": []
  },
  {
   "cell_type": "code",
   "execution_count": null,
   "metadata": {},
   "outputs": [],
   "source": []
  },
  {
   "cell_type": "code",
   "execution_count": null,
   "metadata": {},
   "outputs": [],
   "source": []
  },
  {
   "cell_type": "code",
   "execution_count": null,
   "metadata": {},
   "outputs": [],
   "source": []
  },
  {
   "cell_type": "code",
   "execution_count": 45,
   "metadata": {},
   "outputs": [],
   "source": [
    "# df_fy21_forecast_data.to_csv('../testing.csv', index=False)"
   ]
  },
  {
   "cell_type": "code",
   "execution_count": 46,
   "metadata": {},
   "outputs": [],
   "source": [
    "# df_fy22.to_csv('../fy22.csv', index=False)"
   ]
  },
  {
   "cell_type": "code",
   "execution_count": null,
   "metadata": {},
   "outputs": [],
   "source": []
  }
 ],
 "metadata": {
  "interpreter": {
   "hash": "1eaaee0f46c0425fce29c7a7b7d3ce1adf6efb1ea7bbd201ad0762c3aa69edf2"
  },
  "kernelspec": {
   "display_name": "ep_reports",
   "language": "python",
   "name": "ep_reports"
  },
  "language_info": {
   "codemirror_mode": {
    "name": "ipython",
    "version": 3
   },
   "file_extension": ".py",
   "mimetype": "text/x-python",
   "name": "python",
   "nbconvert_exporter": "python",
   "pygments_lexer": "ipython3",
   "version": "3.10.2"
  },
  "orig_nbformat": 4
 },
 "nbformat": 4,
 "nbformat_minor": 2
}
